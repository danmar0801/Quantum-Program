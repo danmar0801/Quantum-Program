{
 "cells": [
  {
   "cell_type": "code",
   "execution_count": 1,
   "id": "e77505e1",
   "metadata": {},
   "outputs": [],
   "source": [
    "from qiskit import QuantumCircuit, QuantumRegister, ClassicalRegister, execute, Aer\n",
    "from math import gcd"
   ]
  },
  {
   "cell_type": "code",
   "execution_count": 2,
   "id": "d11ce8ef",
   "metadata": {},
   "outputs": [],
   "source": [
    "# The integer we want to factorize\n",
    "N = 108976"
   ]
  },
  {
   "cell_type": "code",
   "execution_count": 3,
   "id": "c4225c92",
   "metadata": {},
   "outputs": [],
   "source": [
    "# Find a random integer a such that gcd(a, N) = 1\n",
    "a = 2\n",
    "while gcd(a, N) != 1:\n",
    "    a += 1\n",
    "    "
   ]
  },
  {
   "cell_type": "code",
   "execution_count": 4,
   "id": "199acff9",
   "metadata": {},
   "outputs": [],
   "source": [
    "# Initialize the quantum and classical registers\n",
    "q = QuantumRegister(2)\n",
    "c = ClassicalRegister(2)\n"
   ]
  },
  {
   "cell_type": "code",
   "execution_count": 5,
   "id": "584d2219",
   "metadata": {},
   "outputs": [],
   "source": [
    "# Create the quantum circuit\n",
    "qc = QuantumCircuit(q, c)"
   ]
  },
  {
   "cell_type": "code",
   "execution_count": 6,
   "id": "60220baf",
   "metadata": {},
   "outputs": [
    {
     "data": {
      "text/plain": [
       "<qiskit.circuit.instructionset.InstructionSet at 0x7fa0f6beafa0>"
      ]
     },
     "execution_count": 6,
     "metadata": {},
     "output_type": "execute_result"
    }
   ],
   "source": [
    "# Apply the quantum part of Shor's algorithm\n",
    "qc.h(q[0])\n",
    "qc.rz(2 * a / N * 3.14, q[1])\n",
    "qc.cx(q[0], q[1])\n",
    "qc.h(q[0])\n",
    "qc.measure(q[0], c[0])\n",
    "qc.measure(q[1], c[1])"
   ]
  },
  {
   "cell_type": "code",
   "execution_count": 7,
   "id": "16016246",
   "metadata": {},
   "outputs": [],
   "source": [
    "# Execute the quantum circuit and get the results\n",
    "backend = Aer.get_backend('qasm_simulator')\n",
    "job = execute(qc, backend, shots=10)\n",
    "result = job.result()\n",
    "counts = result.get_counts()"
   ]
  },
  {
   "cell_type": "code",
   "execution_count": 8,
   "id": "e2687c38",
   "metadata": {},
   "outputs": [],
   "source": [
    "# Extract the measurement results from the quantum circuit\n",
    "x = int(list(counts.keys())[0][0])\n",
    "y = int(list(counts.keys())[0][1])"
   ]
  },
  {
   "cell_type": "code",
   "execution_count": 9,
   "id": "0b88d6c7",
   "metadata": {},
   "outputs": [],
   "source": [
    "# Use the measurement results to find the period of the function\n",
    "while x% N == 0:\n",
    "    x+=1\n",
    "r = gcd(int(y * a / x % N), N)\n"
   ]
  },
  {
   "cell_type": "code",
   "execution_count": 10,
   "id": "015a70aa",
   "metadata": {},
   "outputs": [],
   "source": [
    "# The factors of N are N/r and r\n",
    "factors = [int(N / r), r]"
   ]
  },
  {
   "cell_type": "code",
   "execution_count": 11,
   "id": "9e5af605",
   "metadata": {},
   "outputs": [],
   "source": [
    "# Find the remaining factors of N by iterating through the range 2 to sqrt(N)\n",
    "for i in range(2, int(N ** 0.5) + 1):\n",
    "    if N % i == 0:\n",
    "        factors.append(i)\n",
    "        factors.append(int(N / i))"
   ]
  },
  {
   "cell_type": "code",
   "execution_count": 12,
   "id": "c0d630b7",
   "metadata": {},
   "outputs": [
    {
     "name": "stdout",
     "output_type": "stream",
     "text": [
      "The factors of 108976 are [108976, 1, 2, 54488, 4, 27244, 7, 15568, 8, 13622, 14, 7784, 16, 6811, 28, 3892, 49, 2224, 56, 1946, 98, 1112, 112, 973, 139, 784, 196, 556, 278, 392]\n"
     ]
    }
   ],
   "source": [
    "print(f\"The factors of {N} are {factors}\")"
   ]
  }
 ],
 "metadata": {
  "kernelspec": {
   "display_name": "Python 3 (ipykernel)",
   "language": "python",
   "name": "python3"
  },
  "language_info": {
   "codemirror_mode": {
    "name": "ipython",
    "version": 3
   },
   "file_extension": ".py",
   "mimetype": "text/x-python",
   "name": "python",
   "nbconvert_exporter": "python",
   "pygments_lexer": "ipython3",
   "version": "3.9.13"
  }
 },
 "nbformat": 4,
 "nbformat_minor": 5
}
